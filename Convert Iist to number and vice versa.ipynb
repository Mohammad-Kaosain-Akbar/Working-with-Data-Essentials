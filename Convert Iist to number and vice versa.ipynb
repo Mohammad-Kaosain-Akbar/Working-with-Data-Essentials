{
  "nbformat": 4,
  "nbformat_minor": 0,
  "metadata": {
    "colab": {
      "name": "Untitled",
      "provenance": []
    },
    "kernelspec": {
      "name": "python3",
      "display_name": "Python 3"
    },
    "language_info": {
      "name": "python"
    }
  },
  "cells": [
    {
      "cell_type": "code",
      "source": [
        "num=str(num)\n",
        "res = [int(x) for x in str(num)] # converts numbers to list/array \n",
        "\n",
        "\n",
        "num = ''.join(str(e) for e in res) # converts list/array to numbers\n",
        "num=int(num)\n"
      ],
      "metadata": {
        "id": "1-ErQfggjKIY"
      },
      "execution_count": null,
      "outputs": []
    }
  ]
}