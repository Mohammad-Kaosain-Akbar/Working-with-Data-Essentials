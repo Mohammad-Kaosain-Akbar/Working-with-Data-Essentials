{
  "nbformat": 4,
  "nbformat_minor": 0,
  "metadata": {
    "colab": {
      "name": "Untitled2.ipynb",
      "provenance": []
    },
    "kernelspec": {
      "name": "python3",
      "display_name": "Python 3"
    },
    "language_info": {
      "name": "python"
    }
  },
  "cells": [
    {
      "cell_type": "markdown",
      "source": [
        "# **NORMALIZATION**"
      ],
      "metadata": {
        "id": "j8BeGLh-PQUg"
      }
    },
    {
      "cell_type": "code",
      "execution_count": null,
      "metadata": {
        "id": "LFjywg2oPPxB"
      },
      "outputs": [],
      "source": [
        "# Using Libraries\n",
        "\n",
        "from sklearn.preprocessing import StandardScaler\n",
        "sc = StandardScaler()\n",
        "x_train = sc.fit_transform(x_train)\n",
        "x_test=sc.fit_transform(x_test)"
      ]
    },
    {
      "cell_type": "code",
      "source": [
        "# Without Libraries\n",
        "\n",
        "x_train = (x_train - x_train.mean())/x_train.std()\n",
        "\n",
        "x_test = (x_test - x_test.mean())/x_test.std()"
      ],
      "metadata": {
        "id": "6n0vg7m9PbzL"
      },
      "execution_count": null,
      "outputs": []
    }
  ]
}